{
 "cells": [
  {
   "cell_type": "markdown",
   "metadata": {},
   "source": [
    "# Exemplary usage of TitanicClassifier"
   ]
  },
  {
   "cell_type": "markdown",
   "metadata": {},
   "source": [
    "### Initiate environment"
   ]
  },
  {
   "cell_type": "code",
   "execution_count": 1,
   "metadata": {},
   "outputs": [
    {
     "name": "stderr",
     "output_type": "stream",
     "text": [
      "\u001b[32m\u001b[1m  Activating\u001b[22m\u001b[39m project at `~/CTU/SEM_5/JUL/TitanicClassifier/examples`\n"
     ]
    }
   ],
   "source": [
    "using Pkg\n",
    "Pkg.activate(\".\")\n",
    "\n",
    "using DataFrames\n",
    "using Plots\n",
    "\n",
    "using Revise\n",
    "using TitanicClassifier"
   ]
  },
  {
   "cell_type": "code",
   "execution_count": 2,
   "metadata": {},
   "outputs": [],
   "source": [
    "train = CSV_to_df(\"../data/train.csv\");\n",
    "test = CSV_to_df(\"../data/test.csv\");\n",
    "merged = vcat(select(train, Not(\"Survived\")), test);\n",
    "select!(merged, Not(\"PassengerId\"));"
   ]
  },
  {
   "cell_type": "code",
   "execution_count": 3,
   "metadata": {},
   "outputs": [
    {
     "name": "stdout",
     "output_type": "stream",
     "text": [
      "0.1564245810055866\n"
     ]
    }
   ],
   "source": [
    "merged_copy = copy(merged)\n",
    "\n",
    "merged_copy = titanic_preprocessing(merged_copy)\n",
    "\n",
    "X, y_train = prepare_data_for_SVM(Matrix{Float64}(dropmissing(merged_copy)), train[!, \"Survived\"])\n",
    "\n",
    "X_train = X[1:length(y_train), :]\n",
    "\n",
    "\n",
    "trn_x, trn_y, tst_x, tst_y = random_data_split(X_train, y_train; train_ratio=0.8)\n",
    "model = solve_SVM(trn_x, trn_y, 0.001; kernel = TitanicClassifier.PolynomialKernel(3))\n",
    "labels = classify_SVM(tst_x, model)\n",
    "tmp = ones(length(tst_y))\n",
    "avg_error = sum(tmp[labels .!= tst_y])/length(tst_y)\n",
    "\n",
    "print(avg_error, \"\\n\")"
   ]
  },
  {
   "cell_type": "code",
   "execution_count": null,
   "metadata": {},
   "outputs": [],
   "source": []
  }
 ],
 "metadata": {
  "kernelspec": {
   "display_name": "Julia 1.8.1",
   "language": "julia",
   "name": "julia-1.8"
  },
  "language_info": {
   "file_extension": ".jl",
   "mimetype": "application/julia",
   "name": "julia",
   "version": "1.8.1"
  },
  "orig_nbformat": 4,
  "vscode": {
   "interpreter": {
    "hash": "916dbcbb3f70747c44a77c7bcd40155683ae19c65e1c03b4aa3499c5328201f1"
   }
  }
 },
 "nbformat": 4,
 "nbformat_minor": 2
}
