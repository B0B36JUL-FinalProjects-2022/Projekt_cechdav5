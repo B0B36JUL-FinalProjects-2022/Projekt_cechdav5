{
 "cells": [
  {
   "cell_type": "markdown",
   "metadata": {},
   "source": [
    "### Initiate Environment"
   ]
  },
  {
   "cell_type": "code",
   "execution_count": 1,
   "metadata": {},
   "outputs": [
    {
     "name": "stderr",
     "output_type": "stream",
     "text": [
      "\u001b[32m\u001b[1m  Activating\u001b[22m\u001b[39m project at `~/CTU/SEM_5/JUL/TitanicClassifier/examples`\n"
     ]
    }
   ],
   "source": [
    "using Pkg\n",
    "Pkg.activate(\".\")\n",
    "\n",
    "using Revise\n",
    "using TitanicClassifier\n",
    "using CSV\n",
    "using DataFrames"
   ]
  },
  {
   "cell_type": "markdown",
   "metadata": {},
   "source": [
    "### Data Analysis"
   ]
  },
  {
   "cell_type": "code",
   "execution_count": 2,
   "metadata": {},
   "outputs": [],
   "source": [
    "data = CSV.read(\"../data/train.csv\", DataFrame);"
   ]
  },
  {
   "cell_type": "code",
   "execution_count": 64,
   "metadata": {},
   "outputs": [
    {
     "name": "stdout",
     "output_type": "stream",
     "text": [
      "Missing 177 out of 891 entries (0.2%) for column Age\n",
      "Missing 2 out of 891 entries (0.0022%) for column Embarked\n",
      "Missing 687 out of 891 entries (0.77%) for column Cabin\n"
     ]
    }
   ],
   "source": [
    "incomplete_cols = Dict()\n",
    "\n",
    "for row in eachrow(data)\n",
    "    for name in names(data)\n",
    "        if(ismissing(row[name]))\n",
    "            incomplete_cols[name] = get!(incomplete_cols, name, 0) + 1\n",
    "        end\n",
    "    end\n",
    "end\n",
    "\n",
    "for entry in incomplete_cols\n",
    "    print(\"Missing \", entry[2], \" out of \", nrow(data), \" entries (\", round(entry[2]/nrow(data); sigdigits=2), \"%) for column \", entry[1], \"\\n\")\n",
    "end"
   ]
  },
  {
   "cell_type": "markdown",
   "metadata": {},
   "source": [
    "We need to fill missing columns with some data in order for our model to work. For cabin the number of missing entries\n",
    "is great and there is no clear method to impute the missing data - it might be possible to infer the cabin data from ticket \n",
    "and embarked features, however I chose just to introduce an unknown token for the missing entries. Additionally since one of the sources for cabin data is the recollection of survivors it seems that unknown token holds information for survival inference. Age and embarked feature I will impute from the other features."
   ]
  },
  {
   "cell_type": "markdown",
   "metadata": {},
   "source": [
    "### Data Preprocessing"
   ]
  },
  {
   "cell_type": "code",
   "execution_count": 9,
   "metadata": {},
   "outputs": [
    {
     "data": {
      "text/plain": [
       "Dict{Any, Any} with 17 entries:\n",
       "  \"Jonkheer\"     => 1\n",
       "  \"Don\"          => 1\n",
       "  \"the Countess\" => 1\n",
       "  \"Master\"       => 40\n",
       "  \"Miss\"         => 182\n",
       "  \"Capt\"         => 1\n",
       "  \"Mrs\"          => 125\n",
       "  \"Rev\"          => 6\n",
       "  \"Major\"        => 2\n",
       "  \"Mr\"           => 517\n",
       "  \"Mme\"          => 1\n",
       "  \"Mlle\"         => 2\n",
       "  \"Col\"          => 2\n",
       "  \"Lady\"         => 1\n",
       "  \"Sir\"          => 1\n",
       "  \"Ms\"           => 1\n",
       "  \"Dr\"           => 7"
      ]
     },
     "metadata": {},
     "output_type": "display_data"
    }
   ],
   "source": [
    "freq = title_frequencies(data)"
   ]
  },
  {
   "cell_type": "code",
   "execution_count": 4,
   "metadata": {},
   "outputs": [
    {
     "name": "stdout",
     "output_type": "stream",
     "text": [
      "Mr"
     ]
    }
   ],
   "source": [
    "replace_rules = [[[\"Dr\", \"Rev\", \"Col\", \"Major\", \"Capt\"], \"Officer\"],\n",
    "                 [[\"Jonkheer\", \"Countess\", \"Sir\", \"Lady\", \"Don\"], \"Royalty\"], \n",
    "                 [[\"Mlle\"], \"Miss\"], [[\"Ms\"], \"Miss\"], [[\"Mme\"],\"Mrs\"]]"
   ]
  },
  {
   "cell_type": "code",
   "execution_count": 5,
   "metadata": {},
   "outputs": [
    {
     "data": {
      "text/html": [
       "<div><div style = \"float: left;\"><span>2×12 DataFrame</span></div><div style = \"clear: both;\"></div></div><div class = \"data-frame\" style = \"overflow-x: scroll;\"><table class = \"data-frame\" style = \"margin-bottom: 6px;\"><thead><tr class = \"header\"><th class = \"rowNumber\" style = \"font-weight: bold; text-align: right;\">Row</th><th style = \"text-align: left;\">PassengerId</th><th style = \"text-align: left;\">Survived</th><th style = \"text-align: left;\">Pclass</th><th style = \"text-align: left;\">Name</th><th style = \"text-align: left;\">Sex</th><th style = \"text-align: left;\">Age</th><th style = \"text-align: left;\">SibSp</th><th style = \"text-align: left;\">Parch</th><th style = \"text-align: left;\">Ticket</th><th style = \"text-align: left;\">Fare</th><th style = \"text-align: left;\">Cabin</th><th style = \"text-align: left;\">Embarked</th></tr><tr class = \"subheader headerLastRow\"><th class = \"rowNumber\" style = \"font-weight: bold; text-align: right;\"></th><th title = \"Int64\" style = \"text-align: left;\">Int64</th><th title = \"Int64\" style = \"text-align: left;\">Int64</th><th title = \"Int64\" style = \"text-align: left;\">Int64</th><th title = \"String\" style = \"text-align: left;\">String</th><th title = \"String7\" style = \"text-align: left;\">String7</th><th title = \"Union{Missing, Float64}\" style = \"text-align: left;\">Float64?</th><th title = \"Int64\" style = \"text-align: left;\">Int64</th><th title = \"Int64\" style = \"text-align: left;\">Int64</th><th title = \"String31\" style = \"text-align: left;\">String31</th><th title = \"Float64\" style = \"text-align: left;\">Float64</th><th title = \"Union{Missing, String15}\" style = \"text-align: left;\">String15?</th><th title = \"Union{Missing, String1}\" style = \"text-align: left;\">String1?</th></tr></thead><tbody><tr><td class = \"rowNumber\" style = \"font-weight: bold; text-align: right;\">1</td><td style = \"text-align: right;\">2</td><td style = \"text-align: right;\">1</td><td style = \"text-align: right;\">1</td><td style = \"text-align: left;\">Cumings, Mrs. John Bradley (Florence Briggs Thayer)</td><td style = \"text-align: left;\">female</td><td style = \"text-align: right;\">38.0</td><td style = \"text-align: right;\">1</td><td style = \"text-align: right;\">0</td><td style = \"text-align: left;\">PC 17599</td><td style = \"text-align: right;\">71.2833</td><td style = \"text-align: left;\">C85</td><td style = \"text-align: left;\">C</td></tr><tr><td class = \"rowNumber\" style = \"font-weight: bold; text-align: right;\">2</td><td style = \"text-align: right;\">4</td><td style = \"text-align: right;\">1</td><td style = \"text-align: right;\">1</td><td style = \"text-align: left;\">Futrelle, Mrs. Jacques Heath (Lily May Peel)</td><td style = \"text-align: left;\">female</td><td style = \"text-align: right;\">35.0</td><td style = \"text-align: right;\">1</td><td style = \"text-align: right;\">0</td><td style = \"text-align: left;\">113803</td><td style = \"text-align: right;\">53.1</td><td style = \"text-align: left;\">C123</td><td style = \"text-align: left;\">S</td></tr></tbody></table></div>"
      ],
      "text/latex": [
       "\\begin{tabular}{r|ccccc}\n",
       "\t& PassengerId & Survived & Pclass & Name & \\\\\n",
       "\t\\hline\n",
       "\t& Int64 & Int64 & Int64 & String & \\\\\n",
       "\t\\hline\n",
       "\t1 & 2 & 1 & 1 & Cumings, Mrs. John Bradley (Florence Briggs Thayer) & $\\dots$ \\\\\n",
       "\t2 & 4 & 1 & 1 & Futrelle, Mrs. Jacques Heath (Lily May Peel) & $\\dots$ \\\\\n",
       "\\end{tabular}\n"
      ],
      "text/plain": [
       "\u001b[1m2×12 DataFrame\u001b[0m\n",
       "\u001b[1m Row \u001b[0m│\u001b[1m PassengerId \u001b[0m\u001b[1m Survived \u001b[0m\u001b[1m Pclass \u001b[0m\u001b[1m Name                              \u001b[0m\u001b[1m Sex  \u001b[0m ⋯\n",
       "     │\u001b[90m Int64       \u001b[0m\u001b[90m Int64    \u001b[0m\u001b[90m Int64  \u001b[0m\u001b[90m String                            \u001b[0m\u001b[90m Strin\u001b[0m ⋯\n",
       "─────┼──────────────────────────────────────────────────────────────────────────\n",
       "   1 │           2         1       1  Cumings, Mrs. John Bradley (Flor…  femal ⋯\n",
       "   2 │           4         1       1  Futrelle, Mrs. Jacques Heath (Li…  femal\n",
       "\u001b[36m                                                               8 columns omitted\u001b[0m"
      ]
     },
     "metadata": {},
     "output_type": "display_data"
    }
   ],
   "source": [
    "function missing_filter(df)\n",
    "    for col in df\n",
    "        if ismissing(col)\n",
    "            return false\n",
    "        end\n",
    "    end\n",
    "    return true\n",
    "end\n",
    "\n",
    "filter(missing_filter, data[1:5,:])"
   ]
  },
  {
   "cell_type": "code",
   "execution_count": 6,
   "metadata": {},
   "outputs": [
    {
     "name": "stdout",
     "output_type": "stream",
     "text": [
      "Dict{Any, Any}('B' => 6, 'U' => 9, 'D' => 4, 'A' => 5, 'E' => 2, 'G' => 3, 'T' => 8, 'F' => 7, 'C' => 1)"
     ]
    }
   ],
   "source": [
    "extract_deck_from_cabin(cabin) = cabin[1]\n",
    "\n",
    "decks = Dict()\n",
    "\n",
    "id = 1\n",
    "for row in eachrow(data)\n",
    "    if !ismissing(row[\"Cabin\"]) && !haskey(decks, extract_deck_from_cabin(row[\"Cabin\"]))\n",
    "        decks[extract_deck_from_cabin(row[\"Cabin\"])] = id\n",
    "        id+=1\n",
    "    end\n",
    "end\n",
    "decks['U'] = id\n",
    "print(decks)"
   ]
  },
  {
   "cell_type": "code",
   "execution_count": 7,
   "metadata": {},
   "outputs": [
    {
     "name": "stdout",
     "output_type": "stream",
     "text": [
      "Dict{Any, Any}("
     ]
    },
    {
     "name": "stdout",
     "output_type": "stream",
     "text": [
      "String1(\"Q\") => 3, String1(\"S\") => 1, String1(\"C\") => 2)"
     ]
    }
   ],
   "source": [
    "embarks = Dict()\n",
    "\n",
    "id = 1\n",
    "for row in eachrow(data)\n",
    "    if !ismissing(row[\"Embarked\"]) && !haskey(embarks, row[\"Embarked\"])\n",
    "        embarks[row[\"Embarked\"]] = id\n",
    "        id+=1\n",
    "    end\n",
    "end\n",
    "print(embarks)"
   ]
  },
  {
   "cell_type": "code",
   "execution_count": 8,
   "metadata": {},
   "outputs": [],
   "source": [
    "tickets = Set()\n",
    "\n",
    "function extract_ticket_num(ticket) \n",
    "    temp = split(ticket, \" \")\n",
    "    if (length(temp) == 1 && temp[1]==\"LINE\")\n",
    "        return -1\n",
    "    else \n",
    "        return parse(Int64, last(temp))\n",
    "    end\n",
    "end\n",
    "\n",
    "for row in eachrow(data)\n",
    "    push!(tickets, extract_ticket_num(row[\"Ticket\"]))\n",
    "end\n",
    "\n",
    "sorted_nums = sort(collect(tickets))\n",
    "\n",
    "ticket_idx = Dict()\n",
    "for i in 1:length(sorted_nums)\n",
    "    ticket_idx[sorted_nums[i]] = i\n",
    "end"
   ]
  },
  {
   "cell_type": "code",
   "execution_count": 18,
   "metadata": {},
   "outputs": [
    {
     "name": "stdout",
     "output_type": "stream",
     "text": [
      "Dict{Any, Any}("
     ]
    },
    {
     "name": "stdout",
     "output_type": "stream",
     "text": [
      "\"Miss\" => 2, \"Master\" => 1, \"Officer\" => 3, \"Royalty\" => 0, \"Mrs\" => 4, \"Mr\" => 5)"
     ]
    }
   ],
   "source": [
    "\n",
    "title_tokens = Dict()\n",
    "\n",
    "i = 0\n",
    "\n",
    "replace_rules = [[[\"Dr\", \"Rev\", \"Col\", \"Major\", \"Capt\"], \"Officer\"],\n",
    "[[\"Jonkheer\", \"Countess\", \"Sir\", \"Lady\", \"Don\"], \"Royalty\"], \n",
    "[[\"Mlle\"], \"Miss\"], [[\"Ms\"], \"Miss\"], [[\"Mme\"],\"Mrs\"]]\n",
    "\n",
    "for (title, value) in freq\n",
    "    if !haskey(title_tokens, get_title_token(title, replace_rules))\n",
    "        if(get_title_token(title, replace_rules)==\"Unknown\")\n",
    "            print(title)\n",
    "        end\n",
    "        title_tokens[get_title_token(title, replace_rules)] = i\n",
    "        i+=1\n",
    "    end\n",
    "end\n",
    "\n",
    "print(title_tokens)"
   ]
  },
  {
   "cell_type": "code",
   "execution_count": 19,
   "metadata": {},
   "outputs": [
    {
     "ename": "InterruptException",
     "evalue": "InterruptException:",
     "output_type": "error",
     "traceback": [
      "InterruptException:\n",
      "\n",
      "Stacktrace:\n",
      " [1] print(xs::DataFrame)\n",
      "   @ Base ./coreio.jl:3\n",
      " [2] top-level scope\n",
      "   @ ~/CTU/SEM_5/JUL/TitanicClassifier/examples/classif.ipynb:14"
     ]
    }
   ],
   "source": [
    "processed_data = copy(data)\n",
    "\n",
    "enumerate_sex(str) = str == \"male\" ? 0 : 1\n",
    "\n",
    "#print(processed_data[!, 5])\n",
    "#mapcols!(enumerate_sex, processed_data[!, 5])\n",
    "transform!(processed_data, :Sex => enumerate_sex => :Sex)\n",
    "transform!(processed_data, :Cabin => ByRow(cabin -> ismissing(cabin) ? decks['U'] : decks[extract_deck_from_cabin(cabin)]) => :Cabin)\n",
    "transform!(processed_data, :Ticket => ByRow(ticket -> ticket_idx[extract_ticket_num(ticket)]) => :Ticket)\n",
    "transform!(processed_data, :Embarked => ByRow(embarked -> ismissing(embarked) ? missing : embarks[embarked]) => :Embarked)\n",
    "transform!(processed_data, :Name => ByRow(name -> title_tokens[get_title_token(name, replace_rules)]) => :Name)\n",
    "\n",
    "\n",
    "print(first(processed_data, 5))"
   ]
  }
 ],
 "metadata": {
  "kernelspec": {
   "display_name": "Julia 1.8.1",
   "language": "julia",
   "name": "julia-1.8"
  },
  "language_info": {
   "file_extension": ".jl",
   "mimetype": "application/julia",
   "name": "julia",
   "version": "1.8.1"
  },
  "orig_nbformat": 4
 },
 "nbformat": 4,
 "nbformat_minor": 2
}
