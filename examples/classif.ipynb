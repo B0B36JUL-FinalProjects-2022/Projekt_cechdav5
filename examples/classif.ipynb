{
 "cells": [
  {
   "cell_type": "markdown",
   "metadata": {},
   "source": [
    "### Initiate Environment"
   ]
  },
  {
   "cell_type": "code",
   "execution_count": 70,
   "metadata": {},
   "outputs": [
    {
     "name": "stderr",
     "output_type": "stream",
     "text": [
      "\u001b[32m\u001b[1m  Activating\u001b[22m\u001b[39m project at `~/CTU/SEM_5/JUL/TitanicClassifier/examples`\n"
     ]
    }
   ],
   "source": [
    "using Pkg\n",
    "Pkg.activate(\".\")\n",
    "\n",
    "using Revise\n",
    "using TitanicClassifier\n",
    "using CSV\n",
    "using DataFrames\n",
    "using Statistics"
   ]
  },
  {
   "cell_type": "markdown",
   "metadata": {},
   "source": [
    "### Data Analysis"
   ]
  },
  {
   "cell_type": "code",
   "execution_count": 2,
   "metadata": {},
   "outputs": [],
   "source": [
    "data = CSV.read(\"../data/train.csv\", DataFrame);"
   ]
  },
  {
   "cell_type": "code",
   "execution_count": 64,
   "metadata": {},
   "outputs": [
    {
     "name": "stdout",
     "output_type": "stream",
     "text": [
      "Missing 177 out of 891 entries (0.2%) for column Age\n",
      "Missing 2 out of 891 entries (0.0022%) for column Embarked\n",
      "Missing 687 out of 891 entries (0.77%) for column Cabin\n"
     ]
    }
   ],
   "source": [
    "incomplete_cols = Dict()\n",
    "\n",
    "for row in eachrow(data)\n",
    "    for name in names(data)\n",
    "        if(ismissing(row[name]))\n",
    "            incomplete_cols[name] = get!(incomplete_cols, name, 0) + 1\n",
    "        end\n",
    "    end\n",
    "end\n",
    "\n",
    "for entry in incomplete_cols\n",
    "    print(\"Missing \", entry[2], \" out of \", nrow(data), \" entries (\", round(entry[2]/nrow(data); sigdigits=2), \"%) for column \", entry[1], \"\\n\")\n",
    "end"
   ]
  },
  {
   "cell_type": "markdown",
   "metadata": {},
   "source": [
    "We need to fill missing columns with some data in order for our model to work. For cabin the number of missing entries\n",
    "is great and there is no clear method to impute the missing data - it might be possible to infer the cabin data from ticket \n",
    "and embarked features, however I chose just to introduce an unknown token for the missing entries. Additionally since one of the sources for cabin data is the recollection of survivors it seems that unknown token holds information for survival inference. Age and embarked feature I will impute from the other features."
   ]
  },
  {
   "cell_type": "markdown",
   "metadata": {},
   "source": [
    "### Data Preprocessing"
   ]
  },
  {
   "cell_type": "code",
   "execution_count": 9,
   "metadata": {},
   "outputs": [
    {
     "data": {
      "text/plain": [
       "Dict{Any, Any} with 17 entries:\n",
       "  \"Jonkheer\"     => 1\n",
       "  \"Don\"          => 1\n",
       "  \"the Countess\" => 1\n",
       "  \"Master\"       => 40\n",
       "  \"Miss\"         => 182\n",
       "  \"Capt\"         => 1\n",
       "  \"Mrs\"          => 125\n",
       "  \"Rev\"          => 6\n",
       "  \"Major\"        => 2\n",
       "  \"Mr\"           => 517\n",
       "  \"Mme\"          => 1\n",
       "  \"Mlle\"         => 2\n",
       "  \"Col\"          => 2\n",
       "  \"Lady\"         => 1\n",
       "  \"Sir\"          => 1\n",
       "  \"Ms\"           => 1\n",
       "  \"Dr\"           => 7"
      ]
     },
     "metadata": {},
     "output_type": "display_data"
    }
   ],
   "source": [
    "freq = title_frequencies(data)"
   ]
  },
  {
   "cell_type": "code",
   "execution_count": 4,
   "metadata": {},
   "outputs": [
    {
     "name": "stdout",
     "output_type": "stream",
     "text": [
      "Mr"
     ]
    }
   ],
   "source": [
    "replace_rules = [[[\"Dr\", \"Rev\", \"Col\", \"Major\", \"Capt\"], \"Officer\"],\n",
    "                 [[\"Jonkheer\", \"Countess\", \"Sir\", \"Lady\", \"Don\"], \"Royalty\"], \n",
    "                 [[\"Mlle\"], \"Miss\"], [[\"Ms\"], \"Miss\"], [[\"Mme\"],\"Mrs\"]]"
   ]
  },
  {
   "cell_type": "code",
   "execution_count": 6,
   "metadata": {},
   "outputs": [
    {
     "name": "stdout",
     "output_type": "stream",
     "text": [
      "Dict{Any, Any}('B' => 6, 'U' => 9, 'D' => 4, 'A' => 5, 'E' => 2, 'G' => 3, 'T' => 8, 'F' => 7, 'C' => 1)"
     ]
    }
   ],
   "source": [
    "extract_deck_from_cabin(cabin) = cabin[1]\n",
    "\n",
    "decks = Dict()\n",
    "\n",
    "id = 1\n",
    "for row in eachrow(data)\n",
    "    if !ismissing(row[\"Cabin\"]) && !haskey(decks, extract_deck_from_cabin(row[\"Cabin\"]))\n",
    "        decks[extract_deck_from_cabin(row[\"Cabin\"])] = id\n",
    "        id+=1\n",
    "    end\n",
    "end\n",
    "decks['U'] = id\n",
    "print(decks)"
   ]
  },
  {
   "cell_type": "code",
   "execution_count": 7,
   "metadata": {},
   "outputs": [
    {
     "name": "stdout",
     "output_type": "stream",
     "text": [
      "Dict{Any, Any}("
     ]
    },
    {
     "name": "stdout",
     "output_type": "stream",
     "text": [
      "String1(\"Q\") => 3, String1(\"S\") => 1, String1(\"C\") => 2)"
     ]
    }
   ],
   "source": [
    "embarks = Dict()\n",
    "\n",
    "id = 1\n",
    "for row in eachrow(data)\n",
    "    if !ismissing(row[\"Embarked\"]) && !haskey(embarks, row[\"Embarked\"])\n",
    "        embarks[row[\"Embarked\"]] = id\n",
    "        id+=1\n",
    "    end\n",
    "end\n",
    "print(embarks)"
   ]
  },
  {
   "cell_type": "code",
   "execution_count": 8,
   "metadata": {},
   "outputs": [],
   "source": [
    "tickets = Set()\n",
    "\n",
    "function extract_ticket_num(ticket) \n",
    "    temp = split(ticket, \" \")\n",
    "    if (length(temp) == 1 && temp[1]==\"LINE\")\n",
    "        return -1\n",
    "    else \n",
    "        return parse(Int64, last(temp))\n",
    "    end\n",
    "end\n",
    "\n",
    "for row in eachrow(data)\n",
    "    push!(tickets, extract_ticket_num(row[\"Ticket\"]))\n",
    "end\n",
    "\n",
    "sorted_nums = sort(collect(tickets))\n",
    "\n",
    "ticket_idx = Dict()\n",
    "for i in 1:length(sorted_nums)\n",
    "    ticket_idx[sorted_nums[i]] = i\n",
    "end"
   ]
  },
  {
   "cell_type": "code",
   "execution_count": 18,
   "metadata": {},
   "outputs": [
    {
     "name": "stdout",
     "output_type": "stream",
     "text": [
      "Dict{Any, Any}("
     ]
    },
    {
     "name": "stdout",
     "output_type": "stream",
     "text": [
      "\"Miss\" => 2, \"Master\" => 1, \"Officer\" => 3, \"Royalty\" => 0, \"Mrs\" => 4, \"Mr\" => 5)"
     ]
    }
   ],
   "source": [
    "\n",
    "title_tokens = Dict()\n",
    "\n",
    "i = 0\n",
    "\n",
    "replace_rules = [[[\"Dr\", \"Rev\", \"Col\", \"Major\", \"Capt\"], \"Officer\"],\n",
    "[[\"Jonkheer\", \"Countess\", \"Sir\", \"Lady\", \"Don\"], \"Royalty\"], \n",
    "[[\"Mlle\"], \"Miss\"], [[\"Ms\"], \"Miss\"], [[\"Mme\"],\"Mrs\"]]\n",
    "\n",
    "for (title, value) in freq\n",
    "    if !haskey(title_tokens, get_title_token(title, replace_rules))\n",
    "        if(get_title_token(title, replace_rules)==\"Unknown\")\n",
    "            print(title)\n",
    "        end\n",
    "        title_tokens[get_title_token(title, replace_rules)] = i\n",
    "        i+=1\n",
    "    end\n",
    "end\n",
    "\n",
    "print(title_tokens)"
   ]
  },
  {
   "cell_type": "code",
   "execution_count": 28,
   "metadata": {},
   "outputs": [
    {
     "name": "stdout",
     "output_type": "stream",
     "text": [
      "\u001b[1m5×11 DataFrame\u001b[0m\n",
      "\u001b[1m Row \u001b[0m│\u001b[1m Survived \u001b[0m\u001b[1m Pclass \u001b[0m\u001b[1m Name  \u001b[0m\u001b[1m Sex   \u001b[0m\u001b[1m Age      \u001b[0m\u001b[1m SibSp \u001b[0m\u001b[1m Parch \u001b[0m\u001b[1m Ticket \u001b[0m\u001b[1m Fare    \u001b[0m\u001b[1m Cabin \u001b[0m\u001b[1m Embarked \u001b[0m\n",
      "     │\u001b[90m Int64    \u001b[0m\u001b[90m Int64  \u001b[0m\u001b[90m Int64 \u001b[0m\u001b[90m Int64 \u001b[0m\u001b[90m Float64? \u001b[0m\u001b[90m Int64 \u001b[0m\u001b[90m Int64 \u001b[0m\u001b[90m Int64  \u001b[0m\u001b[90m Float64 \u001b[0m\u001b[90m Int64 \u001b[0m\u001b[90m Int64?   \u001b[0m\n",
      "─────┼──────────────────────────────────────────────────────────────────────────────────────────\n",
      "   1 │        0       3      5      0      22.0      1      0     227   7.25        9         1\n",
      "   2 │        1       1      4      1      38.0      1      0     195  71.2833      1         2\n",
      "   3 │        1       3      2      1      26.0      0      0     658   7.925       9         1\n",
      "   4 │        1       1      4      1      35.0      1      0     350  53.1         1         1\n",
      "   5 │        0       3      5      0      35.0      0      0     620   8.05        9         1"
     ]
    }
   ],
   "source": [
    "processed_data = copy(data)\n",
    "\n",
    "enumerate_sex(str) = str == \"male\" ? 0 : 1\n",
    "\n",
    "transform!(processed_data, :Sex => ByRow(sex -> enumerate_sex(sex)) => :Sex)\n",
    "transform!(processed_data, :Cabin => ByRow(cabin -> ismissing(cabin) ? decks['U'] : decks[extract_deck_from_cabin(cabin)]) => :Cabin)\n",
    "transform!(processed_data, :Ticket => ByRow(ticket -> ticket_idx[extract_ticket_num(ticket)]) => :Ticket)\n",
    "transform!(processed_data, :Embarked => ByRow(embarked -> ismissing(embarked) ? missing : embarks[embarked]) => :Embarked)\n",
    "transform!(processed_data, :Name => ByRow(name -> title_tokens[get_title_token(name, replace_rules)]) => :Name)\n",
    "\n",
    "\n",
    "select!(processed_data, Not(\"PassengerId\"))\n",
    "\n",
    "print(first(processed_data, 5))\n",
    "\n"
   ]
  },
  {
   "cell_type": "code",
   "execution_count": 80,
   "metadata": {},
   "outputs": [
    {
     "data": {
      "text/html": [
       "<div><div style = \"float: left;\"><span>11×11 DataFrame</span></div><div style = \"clear: both;\"></div></div><div class = \"data-frame\" style = \"overflow-x: scroll;\"><table class = \"data-frame\" style = \"margin-bottom: 6px;\"><thead><tr class = \"header\"><th class = \"rowNumber\" style = \"font-weight: bold; text-align: right;\">Row</th><th style = \"text-align: left;\">Survived</th><th style = \"text-align: left;\">Pclass</th><th style = \"text-align: left;\">Title</th><th style = \"text-align: left;\">Sex</th><th style = \"text-align: left;\">Age</th><th style = \"text-align: left;\">SibSp</th><th style = \"text-align: left;\">Parch</th><th style = \"text-align: left;\">Ticket</th><th style = \"text-align: left;\">Fare</th><th style = \"text-align: left;\">Cabin</th><th style = \"text-align: left;\">Embarked</th></tr><tr class = \"subheader headerLastRow\"><th class = \"rowNumber\" style = \"font-weight: bold; text-align: right;\"></th><th title = \"Float64\" style = \"text-align: left;\">Float64</th><th title = \"Float64\" style = \"text-align: left;\">Float64</th><th title = \"Float64\" style = \"text-align: left;\">Float64</th><th title = \"Float64\" style = \"text-align: left;\">Float64</th><th title = \"Float64\" style = \"text-align: left;\">Float64</th><th title = \"Float64\" style = \"text-align: left;\">Float64</th><th title = \"Float64\" style = \"text-align: left;\">Float64</th><th title = \"Float64\" style = \"text-align: left;\">Float64</th><th title = \"Float64\" style = \"text-align: left;\">Float64</th><th title = \"Float64\" style = \"text-align: left;\">Float64</th><th title = \"Float64\" style = \"text-align: left;\">Float64</th></tr></thead><tbody><tr><td class = \"rowNumber\" style = \"font-weight: bold; text-align: right;\">1</td><td style = \"text-align: right;\">1.0</td><td style = \"text-align: right;\">-0.356462</td><td style = \"text-align: right;\">-0.426484</td><td style = \"text-align: right;\">0.536762</td><td style = \"text-align: right;\">-0.0824459</td><td style = \"text-align: right;\">-0.015523</td><td style = \"text-align: right;\">0.0952653</td><td style = \"text-align: right;\">-0.182137</td><td style = \"text-align: right;\">0.2661</td><td style = \"text-align: right;\">-0.279494</td><td style = \"text-align: right;\">0.108517</td></tr><tr><td class = \"rowNumber\" style = \"font-weight: bold; text-align: right;\">2</td><td style = \"text-align: right;\">-0.356462</td><td style = \"text-align: right;\">1.0</td><td style = \"text-align: right;\">0.0863682</td><td style = \"text-align: right;\">-0.150826</td><td style = \"text-align: right;\">-0.365902</td><td style = \"text-align: right;\">0.0651871</td><td style = \"text-align: right;\">0.0236661</td><td style = \"text-align: right;\">0.371343</td><td style = \"text-align: right;\">-0.552893</td><td style = \"text-align: right;\">0.691132</td><td style = \"text-align: right;\">-0.108502</td></tr><tr><td class = \"rowNumber\" style = \"font-weight: bold; text-align: right;\">3</td><td style = \"text-align: right;\">-0.426484</td><td style = \"text-align: right;\">0.0863682</td><td style = \"text-align: right;\">1.0</td><td style = \"text-align: right;\">-0.600639</td><td style = \"text-align: right;\">0.386344</td><td style = \"text-align: right;\">-0.315565</td><td style = \"text-align: right;\">-0.274225</td><td style = \"text-align: right;\">0.0310607</td><td style = \"text-align: right;\">-0.149062</td><td style = \"text-align: right;\">0.0578926</td><td style = \"text-align: right;\">-0.137506</td></tr><tr><td class = \"rowNumber\" style = \"font-weight: bold; text-align: right;\">4</td><td style = \"text-align: right;\">0.536762</td><td style = \"text-align: right;\">-0.150826</td><td style = \"text-align: right;\">-0.600639</td><td style = \"text-align: right;\">1.0</td><td style = \"text-align: right;\">-0.0990372</td><td style = \"text-align: right;\">0.106296</td><td style = \"text-align: right;\">0.249543</td><td style = \"text-align: right;\">-0.0897378</td><td style = \"text-align: right;\">0.182457</td><td style = \"text-align: right;\">-0.135285</td><td style = \"text-align: right;\">0.0971287</td></tr><tr><td class = \"rowNumber\" style = \"font-weight: bold; text-align: right;\">5</td><td style = \"text-align: right;\">-0.0824459</td><td style = \"text-align: right;\">-0.365902</td><td style = \"text-align: right;\">0.386344</td><td style = \"text-align: right;\">-0.0990372</td><td style = \"text-align: right;\">1.0</td><td style = \"text-align: right;\">-0.307351</td><td style = \"text-align: right;\">-0.187896</td><td style = \"text-align: right;\">-0.122777</td><td style = \"text-align: right;\">0.0931425</td><td style = \"text-align: right;\">-0.245705</td><td style = \"text-align: right;\">0.0121857</td></tr><tr><td class = \"rowNumber\" style = \"font-weight: bold; text-align: right;\">6</td><td style = \"text-align: right;\">-0.015523</td><td style = \"text-align: right;\">0.0651871</td><td style = \"text-align: right;\">-0.315565</td><td style = \"text-align: right;\">0.106296</td><td style = \"text-align: right;\">-0.307351</td><td style = \"text-align: right;\">1.0</td><td style = \"text-align: right;\">0.383338</td><td style = \"text-align: right;\">0.0277467</td><td style = \"text-align: right;\">0.13986</td><td style = \"text-align: right;\">0.00548101</td><td style = \"text-align: right;\">0.00402065</td></tr><tr><td class = \"rowNumber\" style = \"font-weight: bold; text-align: right;\">7</td><td style = \"text-align: right;\">0.0952653</td><td style = \"text-align: right;\">0.0236661</td><td style = \"text-align: right;\">-0.274225</td><td style = \"text-align: right;\">0.249543</td><td style = \"text-align: right;\">-0.187896</td><td style = \"text-align: right;\">0.383338</td><td style = \"text-align: right;\">1.0</td><td style = \"text-align: right;\">-0.0128203</td><td style = \"text-align: right;\">0.206624</td><td style = \"text-align: right;\">-0.0230722</td><td style = \"text-align: right;\">-0.0140824</td></tr><tr><td class = \"rowNumber\" style = \"font-weight: bold; text-align: right;\">8</td><td style = \"text-align: right;\">-0.182137</td><td style = \"text-align: right;\">0.371343</td><td style = \"text-align: right;\">0.0310607</td><td style = \"text-align: right;\">-0.0897378</td><td style = \"text-align: right;\">-0.122777</td><td style = \"text-align: right;\">0.0277467</td><td style = \"text-align: right;\">-0.0128203</td><td style = \"text-align: right;\">1.0</td><td style = \"text-align: right;\">-0.215444</td><td style = \"text-align: right;\">0.227769</td><td style = \"text-align: right;\">-0.155978</td></tr><tr><td class = \"rowNumber\" style = \"font-weight: bold; text-align: right;\">9</td><td style = \"text-align: right;\">0.2661</td><td style = \"text-align: right;\">-0.552893</td><td style = \"text-align: right;\">-0.149062</td><td style = \"text-align: right;\">0.182457</td><td style = \"text-align: right;\">0.0931425</td><td style = \"text-align: right;\">0.13986</td><td style = \"text-align: right;\">0.206624</td><td style = \"text-align: right;\">-0.215444</td><td style = \"text-align: right;\">1.0</td><td style = \"text-align: right;\">-0.458929</td><td style = \"text-align: right;\">0.176859</td></tr><tr><td class = \"rowNumber\" style = \"font-weight: bold; text-align: right;\">10</td><td style = \"text-align: right;\">-0.279494</td><td style = \"text-align: right;\">0.691132</td><td style = \"text-align: right;\">0.0578926</td><td style = \"text-align: right;\">-0.135285</td><td style = \"text-align: right;\">-0.245705</td><td style = \"text-align: right;\">0.00548101</td><td style = \"text-align: right;\">-0.0230722</td><td style = \"text-align: right;\">0.227769</td><td style = \"text-align: right;\">-0.458929</td><td style = \"text-align: right;\">1.0</td><td style = \"text-align: right;\">-0.117895</td></tr><tr><td class = \"rowNumber\" style = \"font-weight: bold; text-align: right;\">11</td><td style = \"text-align: right;\">0.108517</td><td style = \"text-align: right;\">-0.108502</td><td style = \"text-align: right;\">-0.137506</td><td style = \"text-align: right;\">0.0971287</td><td style = \"text-align: right;\">0.0121857</td><td style = \"text-align: right;\">0.00402065</td><td style = \"text-align: right;\">-0.0140824</td><td style = \"text-align: right;\">-0.155978</td><td style = \"text-align: right;\">0.176859</td><td style = \"text-align: right;\">-0.117895</td><td style = \"text-align: right;\">1.0</td></tr></tbody></table></div>"
      ],
      "text/latex": [
       "\\begin{tabular}{r|cccccccc}\n",
       "\t& Survived & Pclass & Title & Sex & Age & SibSp & Parch & \\\\\n",
       "\t\\hline\n",
       "\t& Float64 & Float64 & Float64 & Float64 & Float64 & Float64 & Float64 & \\\\\n",
       "\t\\hline\n",
       "\t1 & 1.0 & -0.356462 & -0.426484 & 0.536762 & -0.0824459 & -0.015523 & 0.0952653 & $\\dots$ \\\\\n",
       "\t2 & -0.356462 & 1.0 & 0.0863682 & -0.150826 & -0.365902 & 0.0651871 & 0.0236661 & $\\dots$ \\\\\n",
       "\t3 & -0.426484 & 0.0863682 & 1.0 & -0.600639 & 0.386344 & -0.315565 & -0.274225 & $\\dots$ \\\\\n",
       "\t4 & 0.536762 & -0.150826 & -0.600639 & 1.0 & -0.0990372 & 0.106296 & 0.249543 & $\\dots$ \\\\\n",
       "\t5 & -0.0824459 & -0.365902 & 0.386344 & -0.0990372 & 1.0 & -0.307351 & -0.187896 & $\\dots$ \\\\\n",
       "\t6 & -0.015523 & 0.0651871 & -0.315565 & 0.106296 & -0.307351 & 1.0 & 0.383338 & $\\dots$ \\\\\n",
       "\t7 & 0.0952653 & 0.0236661 & -0.274225 & 0.249543 & -0.187896 & 0.383338 & 1.0 & $\\dots$ \\\\\n",
       "\t8 & -0.182137 & 0.371343 & 0.0310607 & -0.0897378 & -0.122777 & 0.0277467 & -0.0128203 & $\\dots$ \\\\\n",
       "\t9 & 0.2661 & -0.552893 & -0.149062 & 0.182457 & 0.0931425 & 0.13986 & 0.206624 & $\\dots$ \\\\\n",
       "\t10 & -0.279494 & 0.691132 & 0.0578926 & -0.135285 & -0.245705 & 0.00548101 & -0.0230722 & $\\dots$ \\\\\n",
       "\t11 & 0.108517 & -0.108502 & -0.137506 & 0.0971287 & 0.0121857 & 0.00402065 & -0.0140824 & $\\dots$ \\\\\n",
       "\\end{tabular}\n"
      ],
      "text/plain": [
       "\u001b[1m11×11 DataFrame\u001b[0m\n",
       "\u001b[1m Row \u001b[0m│\u001b[1m Survived   \u001b[0m\u001b[1m Pclass     \u001b[0m\u001b[1m Title      \u001b[0m\u001b[1m Sex        \u001b[0m\u001b[1m Age        \u001b[0m\u001b[1m SibSp      \u001b[0m ⋯\n",
       "     │\u001b[90m Float64    \u001b[0m\u001b[90m Float64    \u001b[0m\u001b[90m Float64    \u001b[0m\u001b[90m Float64    \u001b[0m\u001b[90m Float64    \u001b[0m\u001b[90m Float64    \u001b[0m ⋯\n",
       "─────┼──────────────────────────────────────────────────────────────────────────\n",
       "   1 │  1.0        -0.356462   -0.426484    0.536762   -0.0824459  -0.015523   ⋯\n",
       "   2 │ -0.356462    1.0         0.0863682  -0.150826   -0.365902    0.0651871\n",
       "   3 │ -0.426484    0.0863682   1.0        -0.600639    0.386344   -0.315565\n",
       "   4 │  0.536762   -0.150826   -0.600639    1.0        -0.0990372   0.106296\n",
       "   5 │ -0.0824459  -0.365902    0.386344   -0.0990372   1.0        -0.307351   ⋯\n",
       "   6 │ -0.015523    0.0651871  -0.315565    0.106296   -0.307351    1.0\n",
       "   7 │  0.0952653   0.0236661  -0.274225    0.249543   -0.187896    0.383338\n",
       "   8 │ -0.182137    0.371343    0.0310607  -0.0897378  -0.122777    0.0277467\n",
       "   9 │  0.2661     -0.552893   -0.149062    0.182457    0.0931425   0.13986    ⋯\n",
       "  10 │ -0.279494    0.691132    0.0578926  -0.135285   -0.245705    0.00548101\n",
       "  11 │  0.108517   -0.108502   -0.137506    0.0971287   0.0121857   0.00402065\n",
       "\u001b[36m                                                               5 columns omitted\u001b[0m"
      ]
     },
     "metadata": {},
     "output_type": "display_data"
    }
   ],
   "source": [
    "missing_filter(col_name) = df -> !ismissing(df[col_name])\n",
    "\n",
    "filtered = filter(missing_filter(\"Embarked\"), filter(missing_filter(\"Age\"), processed_data))\n",
    "\n",
    "display(DataFrame(cor(Matrix(filtered)), [\"Survived\", \"Pclass\", \"Title\", \"Sex\", \"Age\", \"SibSp\", \"Parch\", \"Ticket\", \"Fare\", \"Cabin\", \"Embarked\"]))"
   ]
  },
  {
   "cell_type": "markdown",
   "metadata": {},
   "source": [
    "Here we can see that Embarked feature doesn't correlate particularly strongly with any of our modified features, therefore I will impute it simply by replacing missing values with the most common value. On the other hand age correlates moderately strongly with\n",
    "Title, Pclass, Sibsp and Cabin. Of these I will use Title and Pclass to impute Age since these are the two strongest correlated\n",
    "features with Age."
   ]
  }
 ],
 "metadata": {
  "kernelspec": {
   "display_name": "Julia 1.8.1",
   "language": "julia",
   "name": "julia-1.8"
  },
  "language_info": {
   "file_extension": ".jl",
   "mimetype": "application/julia",
   "name": "julia",
   "version": "1.8.1"
  },
  "orig_nbformat": 4
 },
 "nbformat": 4,
 "nbformat_minor": 2
}
