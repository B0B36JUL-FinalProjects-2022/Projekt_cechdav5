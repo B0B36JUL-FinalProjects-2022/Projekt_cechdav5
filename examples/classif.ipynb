{
 "cells": [
  {
   "cell_type": "markdown",
   "metadata": {},
   "source": [
    "### Initiate Environment"
   ]
  },
  {
   "cell_type": "code",
   "execution_count": 1,
   "metadata": {},
   "outputs": [
    {
     "name": "stderr",
     "output_type": "stream",
     "text": [
      "\u001b[32m\u001b[1m  Activating\u001b[22m\u001b[39m project at `~/CTU/SEM_5/JUL/TitanicClassifier/examples`\n"
     ]
    }
   ],
   "source": [
    "using Pkg\n",
    "Pkg.activate(\".\")\n",
    "\n",
    "using Revise\n",
    "using TitanicClassifier\n",
    "using CSV\n",
    "using DataFrames"
   ]
  },
  {
   "cell_type": "markdown",
   "metadata": {},
   "source": [
    "### Data Analysis"
   ]
  },
  {
   "cell_type": "code",
   "execution_count": 2,
   "metadata": {},
   "outputs": [],
   "source": [
    "data = CSV.read(\"../data/train.csv\", DataFrame);"
   ]
  },
  {
   "cell_type": "code",
   "execution_count": 64,
   "metadata": {},
   "outputs": [
    {
     "name": "stdout",
     "output_type": "stream",
     "text": [
      "Missing 177 out of 891 entries (0.2%) for column Age\n",
      "Missing 2 out of 891 entries (0.0022%) for column Embarked\n",
      "Missing 687 out of 891 entries (0.77%) for column Cabin\n"
     ]
    }
   ],
   "source": [
    "incomplete_cols = Dict()\n",
    "\n",
    "for row in eachrow(data)\n",
    "    for name in names(data)\n",
    "        if(ismissing(row[name]))\n",
    "            incomplete_cols[name] = get!(incomplete_cols, name, 0) + 1\n",
    "        end\n",
    "    end\n",
    "end\n",
    "\n",
    "for entry in incomplete_cols\n",
    "    print(\"Missing \", entry[2], \" out of \", nrow(data), \" entries (\", round(entry[2]/nrow(data); sigdigits=2), \"%) for column \", entry[1], \"\\n\")\n",
    "end"
   ]
  },
  {
   "cell_type": "markdown",
   "metadata": {},
   "source": [
    "We need to fill missing columns with some data in order for our model to work. For cabin the number of missing entries\n",
    "is great and there is no clear method to impute the missing data - it might be possible to infer the cabin data from ticket \n",
    "and embarked features, however I chose just to introduce an unknown token for the missing entries. Additionally since one of the sources for cabin data is the recollection of survivors it seems that unknown token holds information for survival inference. Age and embarked feature I will impute from the other features."
   ]
  },
  {
   "cell_type": "markdown",
   "metadata": {},
   "source": [
    "### Data Preprocessing"
   ]
  },
  {
   "cell_type": "code",
   "execution_count": 37,
   "metadata": {},
   "outputs": [
    {
     "data": {
      "text/plain": [
       "Dict{Any, Any} with 17 entries:\n",
       "  \"Jonkheer\"     => 1\n",
       "  \"Don\"          => 1\n",
       "  \"the Countess\" => 1\n",
       "  \"Master\"       => 40\n",
       "  \"Miss\"         => 182\n",
       "  \"Capt\"         => 1\n",
       "  \"Mrs\"          => 125\n",
       "  \"Rev\"          => 6\n",
       "  \"Major\"        => 2\n",
       "  \"Mr\"           => 517\n",
       "  \"Mme\"          => 1\n",
       "  \"Mlle\"         => 2\n",
       "  \"Col\"          => 2\n",
       "  \"Lady\"         => 1\n",
       "  \"Sir\"          => 1\n",
       "  \"Ms\"           => 1\n",
       "  \"Dr\"           => 7"
      ]
     },
     "metadata": {},
     "output_type": "display_data"
    }
   ],
   "source": [
    "freq = title_frequencies(data)"
   ]
  },
  {
   "cell_type": "code",
   "execution_count": 13,
   "metadata": {},
   "outputs": [
    {
     "name": "stdout",
     "output_type": "stream",
     "text": [
      "Mr"
     ]
    }
   ],
   "source": [
    "replace_rules = [[[\"Dr\", \"Rev\", \"Col\", \"Major\", \"Capt\"], \"Officer\"],\n",
    "                 [[\"Jonkheer\", \"Countess\", \"Sir\", \"Lady\", \"Don\"], \"Royalty\"], \n",
    "                 [[\"Mlle\"], \"Miss\"], [[\"Ms\"], \"Miss\"], [[\"Mme\"],\"Mrs\"]]\n",
    "\n",
    "for row in eachrow(data)\n",
    "    print(TitanicClassifier.get_title_token(row, replace_rules))\n",
    "    break\n",
    "end"
   ]
  },
  {
   "cell_type": "code",
   "execution_count": 39,
   "metadata": {},
   "outputs": [
    {
     "data": {
      "text/html": [
       "<div><div style = \"float: left;\"><span>2×12 DataFrame</span></div><div style = \"clear: both;\"></div></div><div class = \"data-frame\" style = \"overflow-x: scroll;\"><table class = \"data-frame\" style = \"margin-bottom: 6px;\"><thead><tr class = \"header\"><th class = \"rowNumber\" style = \"font-weight: bold; text-align: right;\">Row</th><th style = \"text-align: left;\">PassengerId</th><th style = \"text-align: left;\">Survived</th><th style = \"text-align: left;\">Pclass</th><th style = \"text-align: left;\">Name</th><th style = \"text-align: left;\">Sex</th><th style = \"text-align: left;\">Age</th><th style = \"text-align: left;\">SibSp</th><th style = \"text-align: left;\">Parch</th><th style = \"text-align: left;\">Ticket</th><th style = \"text-align: left;\">Fare</th><th style = \"text-align: left;\">Cabin</th><th style = \"text-align: left;\">Embarked</th></tr><tr class = \"subheader headerLastRow\"><th class = \"rowNumber\" style = \"font-weight: bold; text-align: right;\"></th><th title = \"Int64\" style = \"text-align: left;\">Int64</th><th title = \"Int64\" style = \"text-align: left;\">Int64</th><th title = \"Int64\" style = \"text-align: left;\">Int64</th><th title = \"String\" style = \"text-align: left;\">String</th><th title = \"String7\" style = \"text-align: left;\">String7</th><th title = \"Union{Missing, Float64}\" style = \"text-align: left;\">Float64?</th><th title = \"Int64\" style = \"text-align: left;\">Int64</th><th title = \"Int64\" style = \"text-align: left;\">Int64</th><th title = \"String31\" style = \"text-align: left;\">String31</th><th title = \"Float64\" style = \"text-align: left;\">Float64</th><th title = \"Union{Missing, String15}\" style = \"text-align: left;\">String15?</th><th title = \"Union{Missing, String1}\" style = \"text-align: left;\">String1?</th></tr></thead><tbody><tr><td class = \"rowNumber\" style = \"font-weight: bold; text-align: right;\">1</td><td style = \"text-align: right;\">2</td><td style = \"text-align: right;\">1</td><td style = \"text-align: right;\">1</td><td style = \"text-align: left;\">Cumings, Mrs. John Bradley (Florence Briggs Thayer)</td><td style = \"text-align: left;\">female</td><td style = \"text-align: right;\">38.0</td><td style = \"text-align: right;\">1</td><td style = \"text-align: right;\">0</td><td style = \"text-align: left;\">PC 17599</td><td style = \"text-align: right;\">71.2833</td><td style = \"text-align: left;\">C85</td><td style = \"text-align: left;\">C</td></tr><tr><td class = \"rowNumber\" style = \"font-weight: bold; text-align: right;\">2</td><td style = \"text-align: right;\">4</td><td style = \"text-align: right;\">1</td><td style = \"text-align: right;\">1</td><td style = \"text-align: left;\">Futrelle, Mrs. Jacques Heath (Lily May Peel)</td><td style = \"text-align: left;\">female</td><td style = \"text-align: right;\">35.0</td><td style = \"text-align: right;\">1</td><td style = \"text-align: right;\">0</td><td style = \"text-align: left;\">113803</td><td style = \"text-align: right;\">53.1</td><td style = \"text-align: left;\">C123</td><td style = \"text-align: left;\">S</td></tr></tbody></table></div>"
      ],
      "text/latex": [
       "\\begin{tabular}{r|ccccc}\n",
       "\t& PassengerId & Survived & Pclass & Name & \\\\\n",
       "\t\\hline\n",
       "\t& Int64 & Int64 & Int64 & String & \\\\\n",
       "\t\\hline\n",
       "\t1 & 2 & 1 & 1 & Cumings, Mrs. John Bradley (Florence Briggs Thayer) & $\\dots$ \\\\\n",
       "\t2 & 4 & 1 & 1 & Futrelle, Mrs. Jacques Heath (Lily May Peel) & $\\dots$ \\\\\n",
       "\\end{tabular}\n"
      ],
      "text/plain": [
       "\u001b[1m2×12 DataFrame\u001b[0m\n",
       "\u001b[1m Row \u001b[0m│\u001b[1m PassengerId \u001b[0m\u001b[1m Survived \u001b[0m\u001b[1m Pclass \u001b[0m\u001b[1m Name                              \u001b[0m\u001b[1m Sex  \u001b[0m ⋯\n",
       "     │\u001b[90m Int64       \u001b[0m\u001b[90m Int64    \u001b[0m\u001b[90m Int64  \u001b[0m\u001b[90m String                            \u001b[0m\u001b[90m Strin\u001b[0m ⋯\n",
       "─────┼──────────────────────────────────────────────────────────────────────────\n",
       "   1 │           2         1       1  Cumings, Mrs. John Bradley (Flor…  femal ⋯\n",
       "   2 │           4         1       1  Futrelle, Mrs. Jacques Heath (Li…  femal\n",
       "\u001b[36m                                                               8 columns omitted\u001b[0m"
      ]
     },
     "metadata": {},
     "output_type": "display_data"
    }
   ],
   "source": [
    "function missing_filter(df)\n",
    "    for col in df\n",
    "        if ismissing(col)\n",
    "            return false\n",
    "        end\n",
    "    end\n",
    "    return true\n",
    "end\n",
    "\n",
    "filter(missing_filter, data[1:5,:])"
   ]
  },
  {
   "cell_type": "code",
   "execution_count": 114,
   "metadata": {},
   "outputs": [
    {
     "name": "stdout",
     "output_type": "stream",
     "text": [
      "Dict{Any, Any}('B' => 6, 'U' => 9, 'D' => 4, 'A' => 5, 'E' => 2, 'G' => 3, 'T' => 8, 'F' => 7, 'C' => 1)"
     ]
    }
   ],
   "source": [
    "extract_deck_from_cabin(cabin) = cabin[1]\n",
    "\n",
    "decks = Dict()\n",
    "\n",
    "id = 1\n",
    "for row in eachrow(data)\n",
    "    if !ismissing(row[\"Cabin\"]) && !haskey(decks, extract_deck_from_cabin(row[\"Cabin\"]))\n",
    "        decks[extract_deck_from_cabin(row[\"Cabin\"])] = id\n",
    "        id+=1\n",
    "    end\n",
    "end\n",
    "decks['U'] = id\n",
    "print(decks)"
   ]
  },
  {
   "cell_type": "code",
   "execution_count": 123,
   "metadata": {},
   "outputs": [
    {
     "name": "stdout",
     "output_type": "stream",
     "text": [
      "Dict{Any, Any}(String1(\"Q\") => 3, String1(\"S\") => 1, String1(\"C\") => 2)"
     ]
    }
   ],
   "source": [
    "embarks = Dict()\n",
    "\n",
    "id = 1\n",
    "for row in eachrow(data)\n",
    "    if !ismissing(row[\"Embarked\"]) && !haskey(embarks, row[\"Embarked\"])\n",
    "        embarks[row[\"Embarked\"]] = id\n",
    "        id+=1\n",
    "    end\n",
    "end\n",
    "print(embarks)"
   ]
  },
  {
   "cell_type": "code",
   "execution_count": 124,
   "metadata": {},
   "outputs": [
    {
     "name": "stdout",
     "output_type": "stream",
     "text": [
      "Dict{Any, Any}(315094 => 433, 4135 => 96, 250648 => 415, 3101296 => 670, 370376 => 614, 3337 => 83, 4136 => 97, 4348 => 100, 237671 => 382, 392082 => 634, 17463 => 172, 349249 => 550, 3101272 => 648, 3540 => 90, 113783 => 339, 14263 => 158, 113051 => 323, 244361 => 399, 17610 => 203, 345764 => 466, 219533 => 356, 27849 => 240, 34244 => 275, 34068 => 273, 3101269 => 646, 17318 => 168, 113043 => 321, 239855 => 388, 110813 => 305, 17582 => 187, 330931 => 446, 3101305 => 672, 347083 => 497, 343095 => 459, 343120 => 460, 349224 => 531, 392089 => 637, 345778 => 474, 12460 => 141, 19950 => 221, 315090 => 431, 362316 => 579, 11771 => 136, 367228 => 598, 113510 => 331, 110564 => 304, 211536 => 354, 3381 => 84, 237736 => 383, 315097 => 435, 363291 => 580, 29103 => 254, 244278 => 396, 364499 => 584, 233639 => 370, 230136 => 365, 349253 => 553, 220367 => 357, 345774 => 472, 29751 => 263, 248740 => 409, 1585 => 10, 17764 => 214, 349234 => 537, 383121 => 629, 2690 => 68, 17466 => 175, 348121 => 508, 349218 => 526, 330923 => 445, 111428 => 312, 315082 => 426, 113509 => 330, 3101285 => 660, 244373 => 401, 110152 => 301, 17611 => 204, 250655 => 420, 347062 => 482, 13531 => 153, 315098 => 436, 8475 => 123, 3101293 => 667, 336439 => 456, 330935 => 448, 14208 => 156, 2624 => 32, 113792 => 345, 17592 => 190, 29037 => 253, 11774 => 137, 347076 => 491, 370129 => 606, 370375 => 613, 250649 => 416, 265302 => 421, 248738 => 408, 250653 => 419, 250651 => 417, 11765 => 133, 350048 => 570, 347063 => 483, 3101286 => 661, 2620 => 30, 19952 => 222, 17483 => 182, 237668 => 381, 17421 => 170, 350043 => 567, 11769 => 135, 17369 => 169, 17608 => 201, 6563 => 107, 350406 => 575, 6212 => 106, 349245 => 546, 2163 => 23, 349912 => 559, 13049 => 145, 349240 => 541, 17485 => 183, 33111 => 269, 347088 => 500, 2314 => 26, 7077 => 113, 347470 => 505, 2691 => 69, 2672 => 57, 2628 => 36, 17599 => 195, 248723 => 404, 1166 => 9, 33112 => 270, 16988 => 166, 113786 => 341, 3101265 => 644, 342826 => 458, 13528 => 151, 34218 => 274, 2223 => 25, 345770 => 470, 250652 => 418, 243847 => 392, 315089 => 430, 2650 => 43, 2641 => 39, 350407 => 576, 3101295 => 669, 374746 => 621, 111427 => 311, 113796 => 347, 364512 => 588, 693 => 4, 345777 => 473, 350060 => 573, 350052 => 572, 370373 => 612, 29178 => 259, 35281 => 279, 29011 => 252, 392076 => 632, 7075 => 111, 12749 => 142, 17465 => 174, 113572 => 333, 349225 => 532, 315096 => 434, 17476 => 179, 36967 => 290, 2683 => 63, 248731 => 406, 2662 => 48, 3235 => 81, 2678 => 61, 349216 => 524, 3460 => 86, 345780 => 476, 7553 => 120, 2123 => 15, 367232 => 602, 2700 => 75, 33638 => 272, 312992 => 423, 244367 => 400, 2666 => 52, 345763 => 465, 3101281 => 657, 4137 => 98, 17612 => 205, 349243 => 544, 35273 => 278, 323592 => 439, 29566 => 261, 349251 => 551, 347071 => 488, 347061 => 481, 358585 => 578, 345781 => 477, 343276 => 462, 349219 => 527, 28206 => 242, 347085 => 498, 350047 => 569, 367655 => 603, 248733 => 407, 541 => 3, 2648 => 41, 2816 => 76, 35851 => 280, 349217 => 525, 2695 => 72, 34260 => 276, 1748 => 12, 350036 => 565, 48871 => 295, 112059 => 317, 347068 => 486, 345779 => 475, 29395 => 260, 7546 => 118, 31921 => 268, 17604 => 199, 335097 => 454, 17482 => 181, 231945 => 369, 2079 => 14, 349239 => 540, 382649 => 626, 65303 => 298, 2466 => 29, 349207 => 516, 17473 => 176, 364516 => 589, 3101306 => 673, 364849 => 592, 33595 => 271, 17569 => 185, 233866 => 371, 13213 => 146, 2664 => 50, 110413 => 302, 113784 => 340, 364850 => 593, 364846 => 590, 29108 => 258, 368703 => 605, 382652 => 628, 2151 => 21, 36568 => 283, 112052 => 314, 9549 => 125, 349222 => 529, 113789 => 344, 17609 => 202, 17756 => 208, 248706 => 403, 349201 => 511, 17593 => 191, 315093 => 432, 113056 => 325, 244358 => 398, 36864 => 284, 367229 => 599, 13568 => 155, 312993 => 424, 315153 => 438, 345783 => 478, 244270 => 395, 17477 => 180, 347054 => 479, 347742 => 506, 4134 => 95, 330958 => 449, 2131 => 16, 330877 => 442, 17453 => 171, 113807 => 353, 113055 => 324, 335677 => 455, 3101292 => 666, 392096 => 641, 2167 => 24, 367226 => 597, 2003 => 13, 350035 => 564, 244252 => 394, 2686 => 65, 7534 => 115, 2671 => 56, 370372 => 611, 230433 => 366, 7267 => 114, 374910 => 623, 3101294 => 668, 226875 => 361, 54510 => 296, 386525 => 631, 112050 => 313, 347078 => 493, 13507 => 149, 220845 => 358, 3101279 => 655, 113050 => 322, 113776 => 337, 243880 => 393, 65306 => 300, 347064 => 484, 347080 => 494, 29750 => 262, 349248 => 549, 3464 => 87, 341826 => 457, 2661 => 47, 2663 => 49, 17474 => 177, 250643 => 411, 2133 => 17, 365226 => 596, 236852 => 377, 2629 => 37, 113503 => 328, 239856 => 389, -1 => 1, 330979 => 451, 370371 => 610, 330909 => 443, 239854 => 387, 17572 => 186, 18509 => 215, 349254 => 554, 113806 => 352, 3594 => 91, 3101288 => 663, 345769 => 469, 13502 => 148, 17758 => 210, 2674 => 59, 239853 => 386, 365222 => 595, 2693 => 70, 39886 => 293, 3101267 => 645, 11755 => 132, 10482 => 126, 315088 => 429, 349206 => 515, 17601 => 197, 3101298 => 671, 11813 => 138, 2667 => 53, 349205 => 514, 349223 => 530, 374887 => 622, 345767 => 468, 37671 => 292, 24579 => 234, 45380 => 294, 7598 => 121, 752 => 7, 2677 => 60, 3336 => 82, 21171 => 227, 350050 => 571, 4579 => 101, 350026 => 561, 36866 => 286, 113028 => 320, 13214 => 147, 364500 => 585, 112379 => 319, 370369 => 608, 16966 => 165, 350046 => 568, 11206 => 127, 113773 => 336, 113505 => 329, 28213 => 243, 349231 => 535, 231919 => 368, 3536 => 89, 31026 => 264, 349241 => 542, 3101289 => 664, 11753 => 131, 371110 => 617, 315086 => 428, 28424 => 247, 7545 => 117, 19996 => 225, 19972 => 223, 347069 => 487, 6608 => 109, 229236 => 363, 35852 => 281, 113794 => 346, 28220 => 244, 349210 => 519, 312991 => 422, 376564 => 624, 3101287 => 662, 345773 => 471, 349244 => 545, 17558 => 184, 2149 => 20, 13509 => 150, 2653 => 45, 5727 => 103, 24160 => 233, 17754 => 206, 26707 => 237, 237789 => 384, 349256 => 555, 349252 => 552, 9234 => 124, 28664 => 250, 112277 => 318, 12750 => 143, 250644 => 412, 29105 => 256, 347060 => 480, 2694 => 71, 111240 => 306, 29104 => 255, 13529 => 152, 363592 => 582, 349212 => 520, 347466 => 503, 19928 => 218, 349215 => 523, 21173 => 229, 349909 => 557, 330959 => 450, 392090 => 638, 3101316 => 678, 347087 => 499, 370377 => 615, 19947 => 220, 7076 => 112, 347082 => 496, 113787 => 342, 54636 => 297, 26360 => 236, 17464 => 173, 17761 => 213, 3474 => 88, 364851 => 594, 2623 => 31, 17590 => 189, 5734 => 104, 384461 => 630, 2908 => 78, 348123 => 509, 373450 => 620, 3101275 => 651, 250646 => 413, 349236 => 538, 23567 => 232, 368323 => 604, 27042 => 238, 350042 => 566, 31027 => 265, 27267 => 239, 110465 => 303, 2926 => 79, 349208 => 517, 392078 => 633, 2343 => 28, 367231 => 601, 851 => 8, 113767 => 335, 350025 => 560, 237442 => 379, 8471 => 122, 315037 => 425, 36963 => 289, 349257 => 556, 5547 => 102, 17755 => 207, 29106 => 257, 3101278 => 654, 17605 => 200, 112058 => 316, 2152 => 22, 113788 => 343, 248698 => 402, 11751 => 129, 3101312 => 677, 2668 => 54, 2817 => 77, 234818 => 375, 345765 => 467, 34651 => 277, 3101274 => 650, 14879 => 162, 324669 => 441, 3101290 => 665, 364848 => 591, 371060 => 616, 3 => 2, 349237 => 539, 347067 => 485, 240929 => 391, 19943 => 219, 4138 => 99, 2673 => 58, 17596 => 193, 226593 => 360, 6609 => 110, 4001 => 93, 2665 => 51, 239865 => 390, 350034 => 563, 349209 => 518, 20589 => 226, 113803 => 350, 364506 => 586, 392087 => 636, 228414 => 362, 2649 => 42, 349246 => 547, 347089 => 501, 6607 => 108, 349221 => 528, 2651 => 44, 111320 => 307, 13567 => 154, 18723 => 216, 3902 => 92, 348124 => 510, 2689 => 67, 113514 => 332, 3101280 => 656, 24580 => 235, 13032 => 144, 14313 => 161, 392086 => 635, 17600 => 196, 65304 => 299, 17248 => 167, 3101273 => 649, 364511 => 587, 394140 => 642, 14311 => 159, 14973 => 164, 347468 => 504, 350404 => 574, 11967 => 139, 349233 => 536, 349247 => 548, 3101307 => 674, 376566 => 625, 113059 => 326, 347743 => 507, 330919 => 444, 392092 => 640, 17585 => 188, 36865 => 285, 349213 => 521, 112053 => 315, 17757 => 209, 4133 => 94, 751 => 6, 349227 => 533, 3101282 => 658, 2699 => 74, 3411 => 85, 17759 => 211, 14312 => 160, 19988 => 224, 2626 => 34, 11752 => 130, 2659 => 46, 3101264 => 643, 14258 => 157, 28228 => 245, 113804 => 351, 349203 => 512, 230434 => 367, 236853 => 378, 347464 => 502, 349204 => 513, 5735 => 105, 17760 => 212, 2685 => 64, 248727 => 405, 2680 => 62, 330980 => 452, 12233 => 140, 236171 => 376, 2315 => 27, 36928 => 287, 347074 => 490, 349242 => 543, 113781 => 338, 111426 => 310, 111361 => 308, 230080 => 364, 7552 => 119, 347081 => 495, 223596 => 359, 370365 => 607, 31418 => 267, 7540 => 116, 350029 => 562, 17603 => 198, 367230 => 600, 371362 => 618, 250647 => 414, 28551 => 249, 345572 => 464, 347077 => 492, 113760 => 334, 218629 => 355, 21174 => 230, 370370 => 609, 334912 => 453, 28403 => 246, 349910 => 558, 36947 => 288, 350417 => 577, 28134 => 241, 3101277 => 653, 2687 => 66, 364498 => 583, 113798 => 348, 3101310 => 675, 3101317 => 679, 28425 => 248, 14885 => 163, 347073 => 489, 2647 => 40, 244310 => 397, 3085 => 80, 345364 => 463, 11767 => 134, 31028 => 266, 17597 => 194, 234604 => 373, 2631 => 38, 349214 => 522, 382651 => 627, 695 => 5, 3101276 => 652, 315151 => 437, 323951 => 440, 2627 => 35, 330932 => 447, 19877 => 217, 3101283 => 659, 36209 => 282, 17595 => 192, 372622 => 619, 237798 => 385, 21440 => 231, 392091 => 639, 248747 => 410, 3101311 => 676, 2697 => 73, 363294 => 581, 113800 => 349, 113501 => 327, 315084 => 427, 2144 => 18, 36973 => 291, 111369 => 309, 1601 => 11, 237565 => 380, 21172 => 228, 349228 => 534, 2669 => 55, 2146 => 19, 28665 => 251, 343275 => 461, 17475 => 178, 2625 => 33, 234686 => 374, 234360 => 372, 3101271 => 647, 11668 => 128)"
     ]
    }
   ],
   "source": [
    "tickets = Set()\n",
    "\n",
    "for row in eachrow(data)\n",
    "    temp = split(row[\"Ticket\"], \" \")\n",
    "    if (length(temp) == 1 && temp[1]==\"LINE\")\n",
    "        push!(tickets, -1)\n",
    "    else \n",
    "        push!(tickets, parse(Int64, last(temp)))\n",
    "    end\n",
    "end\n",
    "\n",
    "sorted_nums = sort(collect(tickets))\n",
    "\n",
    "ticket_idx = Dict()\n",
    "for i in 1:length(sorted_nums)\n",
    "    ticket_idx[sorted_nums[i]] = i\n",
    "end\n",
    "\n",
    "print(ticket_idx)"
   ]
  }
 ],
 "metadata": {
  "kernelspec": {
   "display_name": "Julia 1.8.1",
   "language": "julia",
   "name": "julia-1.8"
  },
  "language_info": {
   "file_extension": ".jl",
   "mimetype": "application/julia",
   "name": "julia",
   "version": "1.8.1"
  },
  "orig_nbformat": 4
 },
 "nbformat": 4,
 "nbformat_minor": 2
}
