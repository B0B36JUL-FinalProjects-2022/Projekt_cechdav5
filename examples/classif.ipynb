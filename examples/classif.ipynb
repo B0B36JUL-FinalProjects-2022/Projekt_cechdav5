{
 "cells": [
  {
   "cell_type": "markdown",
   "metadata": {},
   "source": [
    "### Initiate Environment"
   ]
  },
  {
   "cell_type": "code",
   "execution_count": 35,
   "metadata": {},
   "outputs": [
    {
     "name": "stderr",
     "output_type": "stream",
     "text": [
      "\u001b[32m\u001b[1m  Activating\u001b[22m\u001b[39m project at `~/CTU/SEM_5/JUL/TitanicClassifier/examples`\n"
     ]
    }
   ],
   "source": [
    "using Pkg\n",
    "Pkg.activate(\".\")\n",
    "\n",
    "using Revise\n",
    "using TitanicClassifier\n",
    "using CSV"
   ]
  },
  {
   "cell_type": "markdown",
   "metadata": {},
   "source": [
    "### Data Analysis"
   ]
  },
  {
   "cell_type": "code",
   "execution_count": 66,
   "metadata": {},
   "outputs": [],
   "source": [
    "data = CSV.File(\"../data/train.csv\");"
   ]
  },
  {
   "cell_type": "code",
   "execution_count": 67,
   "metadata": {},
   "outputs": [
    {
     "name": "stdout",
     "output_type": "stream",
     "text": [
      "Set(Any[:Cabin, :Age, :Embarked])"
     ]
    }
   ],
   "source": [
    "incomplete_cols = Set()\n",
    "for row in data\n",
    "    for column in propertynames(row)\n",
    "        if ismissing(getproperty(row, column))\n",
    "            push!(incomplete_cols, column)\n",
    "        end\n",
    "    end\n",
    "end\n",
    "print(incomplete_cols)"
   ]
  },
  {
   "cell_type": "markdown",
   "metadata": {},
   "source": [
    "### Data Preprocessing"
   ]
  },
  {
   "cell_type": "code",
   "execution_count": 37,
   "metadata": {},
   "outputs": [
    {
     "data": {
      "text/plain": [
       "Dict{Any, Any} with 17 entries:\n",
       "  \"Jonkheer\"     => 1\n",
       "  \"Don\"          => 1\n",
       "  \"the Countess\" => 1\n",
       "  \"Master\"       => 40\n",
       "  \"Miss\"         => 182\n",
       "  \"Capt\"         => 1\n",
       "  \"Mrs\"          => 125\n",
       "  \"Rev\"          => 6\n",
       "  \"Major\"        => 2\n",
       "  \"Mr\"           => 517\n",
       "  \"Mme\"          => 1\n",
       "  \"Mlle\"         => 2\n",
       "  \"Col\"          => 2\n",
       "  \"Lady\"         => 1\n",
       "  \"Sir\"          => 1\n",
       "  \"Ms\"           => 1\n",
       "  \"Dr\"           => 7"
      ]
     },
     "metadata": {},
     "output_type": "display_data"
    }
   ],
   "source": [
    "freq = title_frequencies(data)"
   ]
  },
  {
   "cell_type": "code",
   "execution_count": 44,
   "metadata": {},
   "outputs": [
    {
     "data": {
      "text/plain": [
       "\"Mr\""
      ]
     },
     "metadata": {},
     "output_type": "display_data"
    }
   ],
   "source": [
    "replace_rules = [[[\"Dr\", \"Rev\", \"Col\", \"Major\", \"Capt\"], \"Officer\"],\n",
    "                 [[\"Jonkheer\", \"Countess\", \"Sir\", \"Lady\", \"Don\"], \"Royalty\"], \n",
    "                 [[\"Mlle\"], \"Miss\"], [[\"Ms\"], \"Miss\"], [[\"Mme\"],\"Mrs\"]]\n",
    "get_title_token(data[1], replace_rules)"
   ]
  }
 ],
 "metadata": {
  "kernelspec": {
   "display_name": "Julia 1.8.1",
   "language": "julia",
   "name": "julia-1.8"
  },
  "language_info": {
   "file_extension": ".jl",
   "mimetype": "application/julia",
   "name": "julia",
   "version": "1.8.1"
  },
  "orig_nbformat": 4
 },
 "nbformat": 4,
 "nbformat_minor": 2
}
